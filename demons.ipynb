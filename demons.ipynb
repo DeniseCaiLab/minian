{
 "cells": [
  {
   "cell_type": "markdown",
   "metadata": {},
   "source": [
    "# install simpleitk\n",
    "`conda install -c https://conda.anaconda.org/simpleitk SimpleITK`"
   ]
  },
  {
   "cell_type": "markdown",
   "metadata": {},
   "source": [
    "# setup"
   ]
  },
  {
   "cell_type": "code",
   "execution_count": null,
   "metadata": {},
   "outputs": [],
   "source": [
    "%%capture\n",
    "%load_ext autoreload\n",
    "%autoreload 2\n",
    "import sys\n",
    "import os\n",
    "import gc\n",
    "import psutil\n",
    "import numpy as np\n",
    "import xarray as xr\n",
    "import holoviews as hv\n",
    "import matplotlib.pyplot as plt\n",
    "import bokeh.plotting as bpl\n",
    "import dask.array as da\n",
    "import pandas as pd\n",
    "import dask\n",
    "import datashader as ds\n",
    "import itertools as itt\n",
    "import papermill as pm\n",
    "import ast\n",
    "import functools as fct\n",
    "import SimpleITK as sitk\n",
    "import cv2\n",
    "import itertools as itt\n",
    "import numba as nb\n",
    "from scipy.stats import zscore\n",
    "from holoviews.operation.datashader import datashade, regrid, dynspread\n",
    "from datashader.colors import Sets1to3\n",
    "from dask.diagnostics import ProgressBar, Profiler\n",
    "from IPython.core.display import display, HTML\n",
    "from dask.distributed import Client, progress, LocalCluster, fire_and_forget\n",
    "minian_path = \".\"\n",
    "sys.path.append(minian_path)\n",
    "from minian.utilities import load_params, load_videos, scale_varr, scale_varr_da, save_variable, open_minian, save_minian, handle_crash\n",
    "from minian.preprocessing import remove_brightspot, gradient_norm, denoise, remove_background, stripe_correction\n",
    "from minian.motion_correction import estimate_shift_fft, apply_shifts, interpolate_frame, mask_shifts, mser, kaze, match_dsc, desc_vec, estimate_homo\n",
    "from minian.initialization import seeds_init, gmm_refine, pnr_refine, intensity_refine, ks_refine, seeds_merge, initialize\n",
    "from minian.cnmf import psd_welch, psd_fft, get_noise, update_spatial, update_temporal, unit_merge, smooth_sig\n",
    "from minian.visualization import VArrayViewer, CNMFViewer, generate_videos, visualize_seeds, visualize_gmm_fit, visualize_spatial_update, visualize_temporal_update, roi_draw\n",
    "from IPython.core.debugger import set_trace"
   ]
  },
  {
   "cell_type": "code",
   "execution_count": null,
   "metadata": {
    "autoscroll": false,
    "ein.tags": "worksheet-0",
    "slideshow": {
     "slide_type": "-"
    }
   },
   "outputs": [],
   "source": [
    "hv.notebook_extension('bokeh', width=100)\n",
    "pbar = ProgressBar(minimum=2)\n",
    "pbar.register()"
   ]
  },
  {
   "cell_type": "markdown",
   "metadata": {},
   "source": [
    "# load data"
   ]
  },
  {
   "cell_type": "code",
   "execution_count": null,
   "metadata": {},
   "outputs": [],
   "source": [
    "dpath = \"./demo_movies/\"\n",
    "fname = \"minian\""
   ]
  },
  {
   "cell_type": "code",
   "execution_count": null,
   "metadata": {},
   "outputs": [],
   "source": [
    "minian = open_minian(\n",
    "    dpath=dpath,\n",
    "    fname=fname,\n",
    "    backend='zarr', chunks=dict(frame='auto', height='auto', width='auto'))"
   ]
  },
  {
   "cell_type": "code",
   "execution_count": null,
   "metadata": {},
   "outputs": [],
   "source": [
    "mov = minian['Y']"
   ]
  },
  {
   "cell_type": "code",
   "execution_count": null,
   "metadata": {},
   "outputs": [],
   "source": [
    "%%time\n",
    "mov = mov.compute()"
   ]
  },
  {
   "cell_type": "code",
   "execution_count": null,
   "metadata": {},
   "outputs": [],
   "source": [
    "mov_int = scale_varr(mov, (0, 255)).astype(np.uint8)"
   ]
  },
  {
   "cell_type": "code",
   "execution_count": null,
   "metadata": {},
   "outputs": [],
   "source": [
    "%%time\n",
    "mov_int = mov_int.persist()"
   ]
  },
  {
   "cell_type": "markdown",
   "metadata": {},
   "source": [
    "# demons"
   ]
  },
  {
   "cell_type": "code",
   "execution_count": null,
   "metadata": {},
   "outputs": [],
   "source": [
    "from minian.motion_correction import demon, apply_displacement, mser, hist_match, demon_reg, mser_vec"
   ]
  },
  {
   "cell_type": "code",
   "execution_count": null,
   "metadata": {},
   "outputs": [],
   "source": [
    "def plot_dis(dis, cvt_grd=True):\n",
    "    if cvt_grd:\n",
    "        gx = -dis[:, :, 0]\n",
    "        gy = dis[:, :, 1]\n",
    "        mag = np.sqrt(gx ** 2 + gy ** 2)\n",
    "        ang = np.arctan2(gy, gx)\n",
    "        dis = np.stack((ang, mag), axis=-1)\n",
    "    xs, ys = np.meshgrid(np.arange(dis.shape[1]), np.arange(dis.shape[0]))\n",
    "    return hv.VectorField((np.flip(xs, axis=0), np.flip(ys, axis=0), dis[:, :, 0], dis[:, :, 1])).opts(magnitude='Magnitude')\n",
    "\n",
    "\n",
    "import itertools as itt\n",
    "def get_field(trans, shape):\n",
    "    xs, ys = (np.arange(shape[0]).astype(np.float),\n",
    "              np.arange(shape[1]).astype(np.float))\n",
    "    fd = np.zeros(shape + (2,))\n",
    "    for x, y in itt.product(xs, ys):\n",
    "        yp, xp = trans.TransformPoint((y, x))\n",
    "        fd[int(x), int(y), 1] = xp - x\n",
    "        fd[int(x), int(y), 0] = yp - y\n",
    "    return fd"
   ]
  },
  {
   "cell_type": "markdown",
   "metadata": {},
   "source": [
    "# testing on individual frame"
   ]
  },
  {
   "cell_type": "code",
   "execution_count": null,
   "metadata": {},
   "outputs": [],
   "source": [
    "subh = slice(150, 250)\n",
    "subw = slice(300, 450)\n",
    "bounds = (0, 0, 150, 100)"
   ]
  },
  {
   "cell_type": "code",
   "execution_count": null,
   "metadata": {},
   "outputs": [],
   "source": [
    "fm0 = mov.isel(frame=0, height=subh, width=subw)\n",
    "fm1 = mov.isel(frame=30, height=subh, width=subw)\n",
    "fm2 = mov.isel(frame=60, height=subh, width=subw)\n",
    "fm0_int = mov_int.isel(frame=0, height=subh, width=subw)\n",
    "fm1_int = mov_int.isel(frame=30, height=subh, width=subw)\n",
    "fm2_int = mov_int.isel(frame=60, height=subh, width=subw)"
   ]
  },
  {
   "cell_type": "code",
   "execution_count": null,
   "metadata": {},
   "outputs": [],
   "source": [
    "regs_fm0 = mser(fm0_int.values)\n",
    "regs_fm1 = mser(fm1_int.values)\n",
    "regs_fm2 = mser(fm2_int.values)"
   ]
  },
  {
   "cell_type": "code",
   "execution_count": null,
   "metadata": {},
   "outputs": [],
   "source": [
    "trans01 = demon_reg(fm1.values, fm0.values, regs_fm0, regs_fm1)\n",
    "trans12 = demon_reg(fm2.values, fm1.values, regs_fm2, regs_fm1)\n",
    "trans02 = sitk.Transform(trans01)\n",
    "trans02.AddTransform(trans12)"
   ]
  },
  {
   "cell_type": "code",
   "execution_count": null,
   "metadata": {},
   "outputs": [],
   "source": [
    "trans01_im = sitk.GetArrayFromImage(trans01.GetDisplacementField())\n",
    "trans12_im = sitk.GetArrayFromImage(trans12.GetDisplacementField())\n",
    "# trans01_im = get_field(trans01, fm0.shape)\n",
    "# trans12_im = get_field(trans12, fm1.shape)\n",
    "trans02_im = get_field(trans02, fm2.shape)"
   ]
  },
  {
   "cell_type": "code",
   "execution_count": null,
   "metadata": {},
   "outputs": [],
   "source": [
    "fm01_trans = apply_displacement(trans01, fm1)\n",
    "fm12_trans = apply_displacement(trans12, fm2)\n",
    "fm02_trans = apply_displacement(trans02, fm2)"
   ]
  },
  {
   "cell_type": "code",
   "execution_count": null,
   "metadata": {},
   "outputs": [],
   "source": [
    "from holoviews.operation import contours\n",
    "(contours(hv.Image(fm0.values, bounds=bounds))\n",
    " + contours(hv.Image(fm1.values, bounds=bounds))\n",
    " + hv.Image(mser_mask(fm0_int.values), bounds=bounds)\n",
    " + plot_dis(trans01_im)\n",
    " + contours(hv.Image(fm01_trans, bounds=bounds))\n",
    " + contours(hv.Image(fm1.values, bounds=bounds))\n",
    " + contours(hv.Image(fm2.values, bounds=bounds))\n",
    " + hv.Image(mser_mask(fm1_int.values), bounds=bounds)\n",
    " + plot_dis(trans12_im)\n",
    " + contours(hv.Image(fm12_trans, bounds=bounds))\n",
    " + contours(hv.Image(fm0.values, bounds=bounds))\n",
    " + contours(hv.Image(fm2.values, bounds=bounds))\n",
    " + hv.Image(mser_mask(fm2_int.values), bounds=bounds)\n",
    " + plot_dis(trans02_im)\n",
    " + contours(hv.Image(fm02_trans, bounds=bounds))\n",
    ").cols(5)"
   ]
  },
  {
   "cell_type": "markdown",
   "metadata": {},
   "source": [
    "# testing movie - parallel"
   ]
  },
  {
   "cell_type": "code",
   "execution_count": null,
   "metadata": {},
   "outputs": [],
   "source": [
    "mov = mov.chunk(dict(height=-1, width=-1, frame='auto'))\n",
    "mov_int = mov_int.chunk(dict(height=-1, width=-1, frame='auto'))"
   ]
  },
  {
   "cell_type": "code",
   "execution_count": null,
   "metadata": {},
   "outputs": [],
   "source": [
    "mser_res = [dask.delayed(mser_vec)(np.asscalar(p)) for p in mov_int.data.to_delayed()]"
   ]
  },
  {
   "cell_type": "code",
   "execution_count": null,
   "metadata": {},
   "outputs": [],
   "source": [
    "%%time\n",
    "mser_res = dask.compute(mser_res)[0]"
   ]
  },
  {
   "cell_type": "code",
   "execution_count": null,
   "metadata": {},
   "outputs": [],
   "source": [
    "mser_res = sum(mser_res, [])"
   ]
  },
  {
   "cell_type": "code",
   "execution_count": null,
   "metadata": {},
   "outputs": [],
   "source": [
    "mser_xr = xr.DataArray(\n",
    "    mser_res,\n",
    "    dims=['frame'],\n",
    "    coords=dict(frame=mov.coords['frame']))"
   ]
  },
  {
   "cell_type": "code",
   "execution_count": null,
   "metadata": {},
   "outputs": [],
   "source": [
    "trans = xr.apply_ufunc(\n",
    "    demon_reg,\n",
    "    mov,\n",
    "    mov.shift(frame=1),\n",
    "    mser_xr,\n",
    "    mser_xr.shift(frame=1),\n",
    "    input_core_dims=[['height', 'width'], ['height', 'width'], [], []],\n",
    "    output_core_dims=[[]],\n",
    "    vectorize=True,\n",
    "    output_dtypes=[np.object],\n",
    "    dask='parallelized'\n",
    ")"
   ]
  },
  {
   "cell_type": "code",
   "execution_count": null,
   "metadata": {},
   "outputs": [],
   "source": [
    "%%time\n",
    "trans = trans.compute()"
   ]
  },
  {
   "cell_type": "code",
   "execution_count": null,
   "metadata": {},
   "outputs": [],
   "source": [
    "%%time\n",
    "dec_fac = 0.9\n",
    "trans_last = None\n",
    "mov_trans = []\n",
    "for tr, fm in zip(trans.values, mov.values):\n",
    "    if tr is np.nan:\n",
    "        mov_trans.append(fm)\n",
    "        continue\n",
    "    if trans_last is None:\n",
    "        trans_cur = sitk.Transform(tr)\n",
    "    else:\n",
    "        trans_cur = sitk.Transform(trans_last)\n",
    "        trans_cur.AddTransform(tr)\n",
    "        trans_cur.FlattenTransform()\n",
    "    fm_trans = apply_displacement(trans_cur, fm)\n",
    "    mov_trans.append(fm_trans)\n",
    "    trans_last = trans_cur"
   ]
  },
  {
   "cell_type": "code",
   "execution_count": null,
   "metadata": {},
   "outputs": [],
   "source": [
    "mov_trans = xr.DataArray(\n",
    "    mov_trans,\n",
    "    dims=['frame', 'height', 'width'],\n",
    "    coords={\n",
    "        'frame': mov.coords['frame'],\n",
    "        'height': mov.coords['height'],\n",
    "        'width': mov.coords['width']\n",
    "    }\n",
    ")"
   ]
  },
  {
   "cell_type": "code",
   "execution_count": null,
   "metadata": {},
   "outputs": [],
   "source": [
    "trans_cum = xr.DataArray(\n",
    "    np.asarray(trans_ls), dims=['frame'], coords=dict(frame=trans.coords['frame']))"
   ]
  },
  {
   "cell_type": "code",
   "execution_count": null,
   "metadata": {},
   "outputs": [],
   "source": [
    "mov_trans = xr.apply_ufunc(\n",
    "    apply_displacement,\n",
    "    trans_cum,\n",
    "    mov.chunk(dict(height=-1, width=-1, frame=40)),\n",
    "    input_core_dims=[[], ['height', 'width']],\n",
    "    output_core_dims=[['height', 'width']],\n",
    "    vectorize=True,\n",
    "    output_dtypes=[mov.dtype],\n",
    "    dask='parallelized'\n",
    ")"
   ]
  },
  {
   "cell_type": "code",
   "execution_count": null,
   "metadata": {},
   "outputs": [],
   "source": [
    "%%time\n",
    "mov_trans = mov_trans.compute()"
   ]
  },
  {
   "cell_type": "markdown",
   "metadata": {},
   "source": [
    "# testing movie - serial"
   ]
  },
  {
   "cell_type": "code",
   "execution_count": null,
   "metadata": {},
   "outputs": [],
   "source": [
    "%%time\n",
    "from tqdm import tqdm_notebook\n",
    "mov_trans = [mov.values[0],]\n",
    "for fm1 in tqdm_notebook(mov.values[1:]):\n",
    "    fm0 = mov_trans[-1]\n",
    "    fm0_int = ((fm0 - fm0.min()) / (fm0.max() - fm0.min()) * 255).astype(np.uint8)\n",
    "    fm1_int = ((fm1 - fm1.min()) / (fm1.max() - fm1.min()) * 255).astype(np.uint8)\n",
    "    reg0 = mser(fm0_int)\n",
    "    reg1 = mser(fm1_int)\n",
    "    trans = demon_reg(fm1, fm0, reg1, reg0)\n",
    "    fm_trans = apply_displacement(trans, fm1)\n",
    "    mov_trans.append(fm_trans)"
   ]
  },
  {
   "cell_type": "code",
   "execution_count": null,
   "metadata": {},
   "outputs": [],
   "source": [
    "mov_trans = xr.DataArray(\n",
    "    mov_trans,\n",
    "    dims=['frame', 'height', 'width'],\n",
    "    coords={\n",
    "        'frame': mov.coords['frame'],\n",
    "        'height': mov.coords['height'],\n",
    "        'width': mov.coords['width']\n",
    "    }\n",
    ")"
   ]
  },
  {
   "cell_type": "markdown",
   "metadata": {},
   "source": [
    "# visualization"
   ]
  },
  {
   "cell_type": "code",
   "execution_count": null,
   "metadata": {},
   "outputs": [],
   "source": [
    "%%opts Image [width=752, height=480] (cmap='Viridis')\n",
    "opts_im = dict(plot=dict(width=752, height=480), style=dict(cmap='viridis'))\n",
    "mov_max = mov.max('frame').compute()\n",
    "mov_trans_max = mov_trans.max('frame').compute()\n",
    "mov_mean = mov.mean('frame').compute()\n",
    "mov_trans_mean = mov_trans.mean('frame').compute()\n",
    "sum_fm = (hv.Image(mov_max.rename('mov'), ['width', 'height'], label=\"Max Before\").opts(**opts_im)\n",
    " + hv.Image(mov_trans_max.rename('mov_trans'), ['width', 'height'], label=\"Max After\").opts(**opts_im)\n",
    " + hv.Image(mov_mean.rename('mov_mean'), ['width', 'height'], label=\"Mean Before\").opts(**opts_im)\n",
    " + hv.Image(mov_trans_mean.rename('mov_trans_mean'), ['width', 'height'], label=\"Mean After\").opts(**opts_im)).cols(2)"
   ]
  },
  {
   "cell_type": "code",
   "execution_count": null,
   "metadata": {},
   "outputs": [],
   "source": [
    "%%output size=80\n",
    "sum_fm"
   ]
  },
  {
   "cell_type": "code",
   "execution_count": null,
   "metadata": {},
   "outputs": [],
   "source": [
    "hv.save(sum_fm, os.path.join(dpath, \"mc_sum.html\"))"
   ]
  },
  {
   "cell_type": "markdown",
   "metadata": {},
   "source": [
    "# save to and re-open from disk (not necessary if the movie fits in memory comfortably)"
   ]
  },
  {
   "cell_type": "code",
   "execution_count": null,
   "metadata": {},
   "outputs": [],
   "source": [
    "mov_trans.to_netcdf(os.path.join(dpath, \"mov_trans.nc\"))\n",
    "mov_trans = xr.open_dataarray(os.path.join(dpath, 'mov_trans.nc'))\n",
    "mov_trans = mov_trans.chunk(dict(height='auto', width='auto', frame='auto'))"
   ]
  },
  {
   "cell_type": "markdown",
   "metadata": {},
   "source": [
    "# save motion corrected movie"
   ]
  },
  {
   "cell_type": "code",
   "execution_count": null,
   "metadata": {},
   "outputs": [],
   "source": [
    "%%time\n",
    "from skvideo.io import vwrite\n",
    "vid = xr.concat([mov.drop(['animal', 'session']), mov_trans], 'width')\n",
    "vid = scale_varr(vid, (0, 255)).astype(np.uint8)\n",
    "with ProgressBar():\n",
    "    vwrite(os.path.join(dpath, \"mc_dem.mp4\"), vid.transpose('frame', 'height', 'width'))"
   ]
  }
 ],
 "metadata": {
  "kernelspec": {
   "display_name": "minian-dev",
   "language": "python",
   "name": "minian-dev"
  },
  "language_info": {
   "codemirror_mode": {
    "name": "ipython",
    "version": 3
   },
   "file_extension": ".py",
   "mimetype": "text/x-python",
   "name": "python",
   "nbconvert_exporter": "python",
   "pygments_lexer": "ipython3",
   "version": "3.6.7"
  }
 },
 "nbformat": 4,
 "nbformat_minor": 2
}
