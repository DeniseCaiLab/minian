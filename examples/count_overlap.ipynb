{
 "cells": [
  {
   "cell_type": "raw",
   "metadata": {},
   "source": [
    "<script>\n",
    "  function code_toggle() {\n",
    "    if (code_shown){\n",
    "      $('div.input').hide('500');\n",
    "      $('#toggleButton').val('Show Code')\n",
    "    } else {\n",
    "      $('div.input').show('500');\n",
    "      $('#toggleButton').val('Hide Code')\n",
    "    }\n",
    "    code_shown = !code_shown\n",
    "  }\n",
    "\n",
    "  $( document ).ready(function(){\n",
    "    code_shown=false;\n",
    "    $('div.input').hide()\n",
    "  });\n",
    "</script>\n",
    "<form action=\"javascript:code_toggle()\"><input type=\"submit\" id=\"toggleButton\" value=\"Show Code\"></form>"
   ]
  },
  {
   "cell_type": "code",
   "execution_count": null,
   "metadata": {},
   "outputs": [],
   "source": [
    "import numpy as np\n",
    "import xarray as xr\n",
    "import holoviews as hv\n",
    "import pandas as pd\n",
    "import itertools as itt\n",
    "hv.notebook_extension('bokeh', width=100)\n",
    "hv.archive.auto()"
   ]
  },
  {
   "cell_type": "code",
   "execution_count": null,
   "metadata": {},
   "outputs": [],
   "source": [
    "mappings_meta_fill = pd.read_pickle(\"./data/mappings_meta_fill.pkl\")\n",
    "group_dict = dict(MS101='negative', MS104='negative', NS20='negative', NS22='negative',\n",
    "                  MS102='neutral', MS103='neutral', NS24='neutral')"
   ]
  },
  {
   "cell_type": "code",
   "execution_count": null,
   "metadata": {},
   "outputs": [],
   "source": [
    "def cell_count(df):\n",
    "    rlist = []\n",
    "    for ss in df['session']:\n",
    "        ncell = df['session', ss].count()\n",
    "        row = pd.Series(\n",
    "            [ss, ncell], index=['session', 'cell_count'])\n",
    "        rlist.append(row)\n",
    "    return pd.concat(rlist, axis='columns', ignore_index=True).T\n",
    "counts = (mappings_meta_fill.groupby(('meta', 'animal')).apply(cell_count)\n",
    "          .reset_index().drop('level_1', axis='columns')\n",
    "          .rename(columns={('meta', 'animal'): 'animal'})\n",
    "          .infer_objects())\n",
    "counts['group'] = counts['animal'].apply(lambda anm: group_dict[anm])"
   ]
  },
  {
   "cell_type": "markdown",
   "metadata": {},
   "source": [
    "# diagram"
   ]
  },
  {
   "cell_type": "markdown",
   "metadata": {},
   "source": [
    "![wired_valence_diagram.svg](./wired_valence_diagram.svg)"
   ]
  },
  {
   "cell_type": "markdown",
   "metadata": {},
   "source": [
    "# cell count - grouped"
   ]
  },
  {
   "cell_type": "code",
   "execution_count": null,
   "metadata": {},
   "outputs": [],
   "source": [
    "%%opts BoxWhisker [height=500, width=800]\n",
    "hv_counts = hv.Dataset(counts, kdims=['session', 'group'], vdims=['cell_count'])\n",
    "hv_counts.to(hv.BoxWhisker)"
   ]
  },
  {
   "cell_type": "markdown",
   "metadata": {},
   "source": [
    "# cell count - individual animal with hover information"
   ]
  },
  {
   "cell_type": "code",
   "execution_count": null,
   "metadata": {},
   "outputs": [],
   "source": [
    "%%opts Curve [height=400, width=600, tools=['hover']]\n",
    "hv_counts = hv.Dataset(counts, kdims=['session', 'group', 'animal'], vdims=['cell_count'])\n",
    "hv_counts.to(hv.Curve).overlay('animal').layout('group')"
   ]
  },
  {
   "cell_type": "markdown",
   "metadata": {},
   "source": [
    "# overlaps - layed out as multi-level x-axis\n",
    "Four types of overlaps are available for toggling:\n",
    "1. overlap -- number of overlapping neurons divided by the number of union of active neurons in both sessions.\n",
    "2. overlap-onA -- number of overlapping neurons divided by number of active neurons in `sessionA`.\n",
    "3. overlap-onB -- number of overlapping neurons divided by number of active neurons in `sessionB`.\n",
    "4. overlap-prod -- number of overlapping neurons divided by the product of active neurons in both sessions, and scaled up by the number of total active neurons for each animal."
   ]
  },
  {
   "cell_type": "code",
   "execution_count": null,
   "metadata": {},
   "outputs": [],
   "source": [
    "overlap_list = []\n",
    "map_dict = {'1': 1, '2': 2, '3': 3, '4': 4, '5': 5, '6': 6}\n",
    "for cur_anm, cur_grp in mappings_meta_fill.groupby(mappings_meta_fill['meta', 'animal']):\n",
    "    cur_ss = cur_grp['session'].dropna(axis='columns', how='all').columns\n",
    "    T = cur_grp['session'].dropna(axis='rows', how='all').shape[0]\n",
    "    for cur_map in itt.combinations(cur_ss, 2):\n",
    "        nint = cur_grp['session'][list(cur_map)].dropna(axis='rows', how='any').shape[0]\n",
    "        nuni = cur_grp['session'][list(cur_map)].dropna(axis='rows', how='all').shape[0]\n",
    "        nA = cur_grp['session'][cur_map[0]].dropna().size\n",
    "        nB = cur_grp['session'][cur_map[1]].dropna().size\n",
    "        cur_map = tuple([map_dict[m] for m in cur_map])\n",
    "        cur_ovlp = pd.Series(\n",
    "            [cur_anm, cur_map[0], cur_map[1], nint/nuni, nint/nA, nint/nB, (nint*T)/(nA*nB)],\n",
    "            index=['animal', 'sessionA', 'sessionB', 'overlap', 'overlap-onA', 'overlap-onB', 'overlap-prod'])\n",
    "        overlap_list.append(cur_ovlp)\n",
    "overlaps = pd.concat(overlap_list, axis=1, ignore_index=True).T\n",
    "overlaps['group'] = overlaps['animal'].apply(lambda anm: group_dict[anm])"
   ]
  },
  {
   "cell_type": "code",
   "execution_count": null,
   "metadata": {},
   "outputs": [],
   "source": [
    "overlaps = overlaps.melt(id_vars=['animal', 'sessionA', 'sessionB', 'group'], var_name='overlap-type', value_name='overlap-value')\n",
    "overlaps['overlap-value'] = overlaps['overlap-value'].astype(float)"
   ]
  },
  {
   "cell_type": "code",
   "execution_count": null,
   "metadata": {
    "scrolled": false
   },
   "outputs": [],
   "source": [
    "%%opts BoxWhisker [width=1000, height=500, xrotation=90] {+framewise}\n",
    "overlap_hv = hv.Dataset(overlaps, kdims=['sessionA', 'sessionB', 'group', 'overlap-type'], vdims=['overlap-value'])\n",
    "overlap_hv.to(hv.BoxWhisker, kdims=['sessionA', 'sessionB', 'group'])"
   ]
  },
  {
   "cell_type": "markdown",
   "metadata": {},
   "source": [
    "# overlaps - layed out as pairwise matrix of `sessionA` and `sessionB`, with individual data points and hover information\n",
    "**left/blue** is **negative** group; **right/orange** is **neutral** group."
   ]
  },
  {
   "cell_type": "code",
   "execution_count": null,
   "metadata": {
    "scrolled": false
   },
   "outputs": [],
   "source": [
    "%%opts BoxWhisker [width=150, height=150] {+framewise}\n",
    "%%opts Scatter [tools=['hover']] (color='group', size=6, cmap='Category10') {+framewise}\n",
    "overlap_hv = hv.Dataset(overlaps, kdims=['sessionA', 'sessionB', 'group', 'overlap-type'], vdims=['overlap-value', 'animal'])\n",
    "box = overlap_hv.to(hv.BoxWhisker, kdims=['group'], vdims=['overlap-value'])\n",
    "pts = overlap_hv.to(hv.Scatter, kdims=['group'], vdims=['overlap-value', 'animal'])\n",
    "((box * pts).collate().grid(['sessionA', 'sessionB']).opts(plot=dict(shared_yaxis=True)))"
   ]
  },
  {
   "cell_type": "code",
   "execution_count": null,
   "metadata": {},
   "outputs": [],
   "source": [
    "%%opts Curve [width=1000, height=400, xrotation=90, tools=['hover']]\n",
    "overlap_hv_anm = hv.Dataset(overlaps, kdims=['animal', 'session', 'group', 'overlap-type'], vdims=['overlap-value'])\n",
    "overlap_hv_anm.to(hv.Curve, kdims=['session']).overlay('animal').layout('group').cols(1)"
   ]
  },
  {
   "cell_type": "code",
   "execution_count": null,
   "metadata": {},
   "outputs": [],
   "source": [
    "hv.archive.export()"
   ]
  }
 ],
 "metadata": {
  "kernelspec": {
   "display_name": "Python3 (minian)",
   "language": "python",
   "name": "minian"
  },
  "language_info": {
   "codemirror_mode": {
    "name": "ipython",
    "version": 3
   },
   "file_extension": ".py",
   "mimetype": "text/x-python",
   "name": "python",
   "nbconvert_exporter": "python",
   "pygments_lexer": "ipython3",
   "version": "3.6.7"
  }
 },
 "nbformat": 4,
 "nbformat_minor": 2
}
