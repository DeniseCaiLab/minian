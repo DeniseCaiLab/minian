{
 "cells": [
  {
   "cell_type": "code",
   "execution_count": null,
   "metadata": {},
   "outputs": [],
   "source": [
    "import numpy as np\n",
    "import xarray as xr\n",
    "import holoviews as hv\n",
    "import pandas as pd\n",
    "import itertools as itt\n",
    "hv.notebook_extension('bokeh', width=100)"
   ]
  },
  {
   "cell_type": "code",
   "execution_count": null,
   "metadata": {},
   "outputs": [],
   "source": [
    "mappings_meta_fill = pd.read_pickle(\n",
    "    \"./data/mappings_meta_fill.pkl\")\n",
    "group_dict = dict(MS101='negative', MS104='negative', NS20='negative', NS22='negative',\n",
    "                  MS102='neutral', MS103='neutral', NS24='neutral')"
   ]
  },
  {
   "cell_type": "code",
   "execution_count": null,
   "metadata": {},
   "outputs": [],
   "source": [
    "def cell_count(df):\n",
    "    rlist = []\n",
    "    for ss in df['session']:\n",
    "        ncell = df['session', ss].count()\n",
    "        row = pd.Series(\n",
    "            [ss, ncell], index=['session', 'cell_count'])\n",
    "        rlist.append(row)\n",
    "    return pd.concat(rlist, axis='columns', ignore_index=True).T\n",
    "counts = (mappings_meta_fill.groupby(('meta', 'animal')).apply(cell_count)\n",
    "          .reset_index().drop('level_1', axis='columns')\n",
    "          .rename(columns={('meta', 'animal'): 'animal'})\n",
    "          .infer_objects())\n",
    "counts['group'] = counts['animal'].apply(lambda anm: group_dict[anm])"
   ]
  },
  {
   "cell_type": "code",
   "execution_count": null,
   "metadata": {},
   "outputs": [],
   "source": [
    "%%opts BoxWhisker [height=500, width=800]\n",
    "hv_counts = hv.Dataset(counts, kdims=['session', 'group'], vdims=['cell_count'])\n",
    "hv_counts.to(hv.BoxWhisker)"
   ]
  },
  {
   "cell_type": "code",
   "execution_count": null,
   "metadata": {},
   "outputs": [],
   "source": [
    "overlap_list = []\n",
    "map_dict = {'1': 1, '2': 2, '3': 3, '4': 4, '5': 5, '6': 6}\n",
    "for cur_anm, cur_grp in mappings_meta_fill.groupby(mappings_meta_fill['meta', 'animal']):\n",
    "    cur_ss = cur_grp['session'].dropna(axis='columns', how='all').columns\n",
    "    T = cur_grp['session'].dropna(axis='rows', how='all').shape[0]\n",
    "    for cur_map in itt.combinations(cur_ss, 2):\n",
    "        nint = cur_grp['session'][list(cur_map)].dropna(axis='rows', how='any').shape[0]\n",
    "        nuni = cur_grp['session'][list(cur_map)].dropna(axis='rows', how='all').shape[0]\n",
    "        nA = cur_grp['session'][cur_map[0]].dropna().size\n",
    "        nB = cur_grp['session'][cur_map[1]].dropna().size\n",
    "        cur_map = tuple([map_dict[m] for m in cur_map])\n",
    "        cur_ovlp = pd.Series(\n",
    "            [cur_anm, cur_map[0], cur_map[1], nint/nuni, nint/nA, nint/nB, (nint*T)/(nA*nB)],\n",
    "            index=['animal', 'sessionA', 'sessionB', 'overlap', 'overlap-onA', 'overlap-onB', 'overlap-prod'])\n",
    "        overlap_list.append(cur_ovlp)\n",
    "overlaps = pd.concat(overlap_list, axis=1, ignore_index=True).T\n",
    "overlaps['group'] = overlaps['animal'].apply(lambda anm: group_dict[anm])"
   ]
  },
  {
   "cell_type": "code",
   "execution_count": null,
   "metadata": {},
   "outputs": [],
   "source": [
    "overlaps = overlaps.melt(id_vars=['animal', 'sessionA', 'sessionB', 'group'], var_name='overlap-type', value_name='overlap-value')\n",
    "overlaps['overlap-value'] = overlaps['overlap-value'].astype(float)"
   ]
  },
  {
   "cell_type": "code",
   "execution_count": null,
   "metadata": {
    "scrolled": false
   },
   "outputs": [],
   "source": [
    "%%opts BoxWhisker [width=1000, height=500, xrotation=90]\n",
    "overlap_hv = hv.Dataset(overlaps, kdims=['sessionA', 'sessionB', 'group', 'overlap-type'], vdims=['overlap-value'])\n",
    "overlap_hv.to(hv.BoxWhisker, kdims=['sessionA', 'sessionB', 'group'])"
   ]
  },
  {
   "cell_type": "code",
   "execution_count": null,
   "metadata": {
    "scrolled": false
   },
   "outputs": [],
   "source": [
    "%%opts BoxWhisker [width=150, height=150] (box_color=hv.Dimension('group'))\n",
    "%%opts Scatter [tools=['hover']] (color='group', size=6, cmap='Category10')\n",
    "overlap_hv = hv.Dataset(overlaps, kdims=['sessionA', 'sessionB', 'group', 'overlap-type'], vdims=['overlap-value', 'animal'])\n",
    "box = overlap_hv.to(hv.BoxWhisker, kdims=['group'], vdims=['overlap-value'])\n",
    "pts = overlap_hv.to(hv.Scatter, kdims=['group'], vdims=['overlap-value', 'animal'])\n",
    "((box * pts).collate().grid(['sessionA', 'sessionB']).opts(plot=dict(shared_yaxis=True))\n",
    " .map(lambda v:v.opts(plot=dict(show_legend=True))))"
   ]
  },
  {
   "cell_type": "code",
   "execution_count": null,
   "metadata": {},
   "outputs": [],
   "source": [
    "%%opts Curve [width=1000, height=400, xrotation=90, tools=['hover']]\n",
    "overlap_hv_anm = hv.Dataset(overlaps, kdims=['animal', 'session', 'group', 'overlap-type'], vdims=['overlap-value'])\n",
    "overlap_hv_anm.to(hv.Curve, kdims=['session']).overlay('animal').layout('group').cols(1)"
   ]
  }
 ],
 "metadata": {
  "kernelspec": {
   "display_name": "Python3 (minian)",
   "language": "python",
   "name": "minian"
  },
  "language_info": {
   "codemirror_mode": {
    "name": "ipython",
    "version": 3
   },
   "file_extension": ".py",
   "mimetype": "text/x-python",
   "name": "python",
   "nbconvert_exporter": "python",
   "pygments_lexer": "ipython3",
   "version": "3.6.7"
  }
 },
 "nbformat": 4,
 "nbformat_minor": 2
}
