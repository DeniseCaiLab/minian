{
 "cells": [
  {
   "cell_type": "code",
   "execution_count": null,
   "metadata": {},
   "outputs": [],
   "source": [
    "import numpy as np\n",
    "import xarray as xr\n",
    "import holoviews as hv\n",
    "import pandas as pd\n",
    "import itertools as itt\n",
    "hv.notebook_extension('bokeh', width=100)"
   ]
  },
  {
   "cell_type": "code",
   "execution_count": null,
   "metadata": {},
   "outputs": [],
   "source": [
    "mappings_meta_fill = pd.read_pickle(\"./data/mappings_meta_fill.pkl\")"
   ]
  },
  {
   "cell_type": "code",
   "execution_count": null,
   "metadata": {},
   "outputs": [],
   "source": [
    "overlap_list = []\n",
    "map_dict = {'1': 'A1', '2': 'B1', '3': 'BS', '4': 'A2', '5': 'B2', '6': 'C'}\n",
    "for cur_anm, cur_grp in mappings_meta_fill.groupby(mappings_meta_fill['meta', 'animal']):\n",
    "    cur_ss = cur_grp['session'].dropna(axis='columns', how='all').columns\n",
    "    T = cur_grp['session'].dropna(axis='rows', how='all').shape[0]\n",
    "    for cur_map in itt.combinations(cur_ss, 2):\n",
    "        nint = cur_grp['session'][list(cur_map)].dropna(axis='rows', how='any').shape[0]\n",
    "        nuni = cur_grp['session'][list(cur_map)].dropna(axis='rows', how='all').shape[0]\n",
    "        nA = cur_grp['session'][cur_map[0]].dropna().size\n",
    "        nB = cur_grp['session'][cur_map[1]].dropna().size\n",
    "        cur_map = tuple([map_dict[m] for m in cur_map])\n",
    "        cur_ovlp = pd.Series([cur_anm, cur_map, nint/nuni, nint/nA, nint/nB, (nint*T)/(nA*nB)], index=['animal', 'session', 'overlap', 'overlap-onA', 'overlap-onB', 'overlap-prod'])\n",
    "        overlap_list.append(cur_ovlp)\n",
    "overlaps = pd.concat(overlap_list, axis=1, ignore_index=True).T\n",
    "group_dict = dict(MS101='negative', MS104='negative', NS20='negative', NS22='negative', MS102='neutral', MS103='neutral', NS24='neutral')\n",
    "overlaps['group'] = overlaps['animal'].apply(lambda anm: group_dict[anm])"
   ]
  },
  {
   "cell_type": "code",
   "execution_count": null,
   "metadata": {},
   "outputs": [],
   "source": [
    "overlaps = overlaps.melt(id_vars=['animal', 'session', 'group'], var_name='overlap-type', value_name='overlap-value')\n",
    "overlaps['overlap-value'] = overlaps['overlap-value'].astype(float)"
   ]
  },
  {
   "cell_type": "code",
   "execution_count": null,
   "metadata": {
    "scrolled": false
   },
   "outputs": [],
   "source": [
    "%%opts BoxWhisker [width=1200, height=600, xrotation=90]\n",
    "overlap_hv = hv.Dataset(overlaps, kdims=['session', 'group', 'overlap-type'], vdims=['overlap-value'])\n",
    "overlap_hv.to(hv.BoxWhisker, kdims=['session', 'group'])"
   ]
  },
  {
   "cell_type": "code",
   "execution_count": null,
   "metadata": {},
   "outputs": [],
   "source": [
    "%%opts Curve [width=1000, height=400, xrotation=90, tools=['hover']]\n",
    "overlap_hv_anm = hv.Dataset(overlaps, kdims=['animal', 'session', 'group', 'overlap-type'], vdims=['overlap-value'])\n",
    "overlap_hv_anm.to(hv.Curve, kdims=['session']).overlay('animal').layout('group').cols(1)"
   ]
  }
 ],
 "metadata": {
  "kernelspec": {
   "display_name": "Python3 (minian)",
   "language": "python",
   "name": "minian"
  },
  "language_info": {
   "codemirror_mode": {
    "name": "ipython",
    "version": 3
   },
   "file_extension": ".py",
   "mimetype": "text/x-python",
   "name": "python",
   "nbconvert_exporter": "python",
   "pygments_lexer": "ipython3",
   "version": "3.6.7"
  }
 },
 "nbformat": 4,
 "nbformat_minor": 2
}
