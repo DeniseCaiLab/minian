{
 "cells": [
  {
   "cell_type": "markdown",
   "metadata": {},
   "source": [
    "# Setting up"
   ]
  },
  {
   "cell_type": "markdown",
   "metadata": {},
   "source": [
    "## set module paths and data path"
   ]
  },
  {
   "cell_type": "code",
   "execution_count": null,
   "metadata": {
    "autoscroll": false,
    "ein.tags": "worksheet-0",
    "slideshow": {
     "slide_type": "-"
    }
   },
   "outputs": [],
   "source": [
    "minian_path = \".\"\n",
    "dpath = \"./demo_movies\"\n",
    "meta_dict = {\"session_id\": -1, \"session\": -2, \"animal\": -3}\n",
    "chunks = {\"frame\": 1000, \"height\": 50, \"width\": 50, \"unit_id\": 100}\n",
    "in_memory = False"
   ]
  },
  {
   "cell_type": "markdown",
   "metadata": {},
   "source": [
    "## load modules"
   ]
  },
  {
   "cell_type": "code",
   "execution_count": null,
   "metadata": {
    "autoscroll": false,
    "ein.tags": "worksheet-0",
    "slideshow": {
     "slide_type": "-"
    }
   },
   "outputs": [],
   "source": [
    "%%capture\n",
    "%load_ext autoreload\n",
    "%autoreload 2\n",
    "import sys\n",
    "import os\n",
    "sys.path.append(minian_path)\n",
    "import gc\n",
    "import psutil\n",
    "import numpy as np\n",
    "import xarray as xr\n",
    "import holoviews as hv\n",
    "import paramnb\n",
    "import matplotlib.pyplot as plt\n",
    "import bokeh.plotting as bpl\n",
    "import dask.array as da\n",
    "import pandas as pd\n",
    "import dask\n",
    "import datashader as ds\n",
    "import lantern as lant\n",
    "from holoviews.operation.datashader import datashade, regrid, dynspread\n",
    "from datashader.colors import Sets1to3\n",
    "from dask.diagnostics import ProgressBar\n",
    "from IPython.core.display import display, HTML\n",
    "from dask.distributed import Client, progress, LocalCluster, fire_and_forget\n",
    "from minian.utilities import load_videos, scale_varr, scale_varr_da, save_variable, open_minian, save_minian\n",
    "from minian.preprocessing import remove_brightspot, gradient_norm, denoise, remove_background, stripe_correction\n",
    "from minian.motion_correction import estimate_shift_fft, apply_shifts, interpolate_frame, mask_shifts\n",
    "from minian.initialization import seeds_init, gmm_refine, pnr_refine, intensity_refine, ks_refine, seeds_merge, initialize\n",
    "from minian.cnmf import psd_welch, psd_fft, get_noise, update_spatial, update_temporal, unit_merge, smooth_sig\n",
    "from minian.visualization import VArrayViewer, CNMFViewer, generate_videos, visualize_spatial_update, visualize_temporal_update"
   ]
  },
  {
   "cell_type": "markdown",
   "metadata": {},
   "source": [
    "## module initialization"
   ]
  },
  {
   "cell_type": "code",
   "execution_count": null,
   "metadata": {
    "autoscroll": false,
    "ein.tags": "worksheet-0",
    "slideshow": {
     "slide_type": "-"
    }
   },
   "outputs": [],
   "source": [
    "dpath = os.path.abspath(dpath)\n",
    "hv.notebook_extension('bokeh', width=100)\n",
    "lant.VariableInspector()"
   ]
  },
  {
   "cell_type": "markdown",
   "metadata": {},
   "source": [
    "# Pre-processing"
   ]
  },
  {
   "cell_type": "markdown",
   "metadata": {},
   "source": [
    "## loading videos and visualization"
   ]
  },
  {
   "cell_type": "code",
   "execution_count": null,
   "metadata": {
    "autoscroll": false,
    "ein.tags": "worksheet-0",
    "slideshow": {
     "slide_type": "-"
    }
   },
   "outputs": [],
   "source": [
    "%%time\n",
    "varr = load_videos(dpath, in_memory=in_memory, dtype=np.float32, downsample=dict(frame=2))"
   ]
  },
  {
   "cell_type": "code",
   "execution_count": null,
   "metadata": {},
   "outputs": [],
   "source": [
    "if in_memory:\n",
    "    varr = varr.persist()"
   ]
  },
  {
   "cell_type": "code",
   "execution_count": null,
   "metadata": {},
   "outputs": [],
   "source": [
    "%%output size=60\n",
    "%%opts Image (cmap='Viridis')\n",
    "vaviewer = VArrayViewer(varr, framerate=5, compute=True)\n",
    "display(vaviewer.widgets)\n",
    "vaviewer.show()"
   ]
  },
  {
   "cell_type": "markdown",
   "metadata": {},
   "source": [
    "## subset part of video"
   ]
  },
  {
   "cell_type": "code",
   "execution_count": null,
   "metadata": {},
   "outputs": [],
   "source": [
    "varr_ref = varr\n",
    "# varr_ref = varr.sel(frame=slice(None, 10000))"
   ]
  },
  {
   "cell_type": "code",
   "execution_count": null,
   "metadata": {},
   "outputs": [],
   "source": [
    "varr_ref = varr_ref.chunk(dict(frame=int(chunks['frame']/10), height=-1, width=-1))"
   ]
  },
  {
   "cell_type": "markdown",
   "metadata": {},
   "source": [
    "## stripe correction"
   ]
  },
  {
   "cell_type": "code",
   "execution_count": null,
   "metadata": {},
   "outputs": [],
   "source": [
    "%%time\n",
    "varr_ref = stripe_correction(varr_ref)\n",
    "if in_memory:\n",
    "    with ProgressBar():\n",
    "        varr_ref = varr_ref.persist()"
   ]
  },
  {
   "cell_type": "markdown",
   "metadata": {},
   "source": [
    "## glow removal"
   ]
  },
  {
   "cell_type": "code",
   "execution_count": null,
   "metadata": {},
   "outputs": [],
   "source": [
    "varr_ref = remove_background(varr_ref, method='uniform', wnd=51)\n",
    "if in_memory:\n",
    "    with ProgressBar():\n",
    "        varr_ref = varr_ref.persist()"
   ]
  },
  {
   "cell_type": "markdown",
   "metadata": {},
   "source": [
    "## bright spots removal"
   ]
  },
  {
   "cell_type": "code",
   "execution_count": null,
   "metadata": {},
   "outputs": [],
   "source": [
    "%%time\n",
    "varr_ref = remove_brightspot(varr_ref, thres=2)\n",
    "if in_memory:\n",
    "    with ProgressBar():\n",
    "        varr_ref = varr_ref.persist()"
   ]
  },
  {
   "cell_type": "markdown",
   "metadata": {},
   "source": [
    "## denoise"
   ]
  },
  {
   "cell_type": "code",
   "execution_count": null,
   "metadata": {},
   "outputs": [],
   "source": [
    "%%time\n",
    "varr_ref = denoise(varr_ref, 'gaussian', sigmaX=0, ksize=(3, 3))\n",
    "if in_memory:\n",
    "    with ProgressBar():\n",
    "        varr_ref = varr_ref.persist()"
   ]
  },
  {
   "cell_type": "markdown",
   "metadata": {},
   "source": [
    "# motion correction"
   ]
  },
  {
   "cell_type": "markdown",
   "metadata": {},
   "source": [
    "## estimate shifts"
   ]
  },
  {
   "cell_type": "code",
   "execution_count": null,
   "metadata": {
    "autoscroll": false,
    "ein.tags": "worksheet-0",
    "scrolled": true,
    "slideshow": {
     "slide_type": "-"
    }
   },
   "outputs": [],
   "source": [
    "%%time\n",
    "res = estimate_shift_fft(varr_ref, on='first', pct_thres=99.9)\n",
    "if in_memory:\n",
    "    with ProgressBar():\n",
    "        res = res.compute()\n",
    "shifts = res.sel(variable = ['height', 'width'])\n",
    "corr = res.sel(variable='corr')"
   ]
  },
  {
   "cell_type": "markdown",
   "metadata": {},
   "source": [
    "## visualization of shifts"
   ]
  },
  {
   "cell_type": "code",
   "execution_count": null,
   "metadata": {},
   "outputs": [],
   "source": [
    "%%output size=100\n",
    "%%opts Curve [width=500, tools=['hover']]\n",
    "hv.NdOverlay(dict(width=hv.Curve(shifts.sel(variable='width')), height=hv.Curve(shifts.sel(variable='height'))))"
   ]
  },
  {
   "cell_type": "markdown",
   "metadata": {},
   "source": [
    "## masking and interpolation"
   ]
  },
  {
   "cell_type": "code",
   "execution_count": null,
   "metadata": {},
   "outputs": [],
   "source": [
    "%%time\n",
    "shifts_ma, mask = mask_shifts(varr_ref, corr, shifts, z_thres=-1.5)"
   ]
  },
  {
   "cell_type": "code",
   "execution_count": null,
   "metadata": {},
   "outputs": [],
   "source": [
    "%%time\n",
    "varr_ref = interpolate_frame(varr_ref.compute().rename('varr_mc'), mask)"
   ]
  },
  {
   "cell_type": "markdown",
   "metadata": {
    "toc-hr-collapsed": true
   },
   "source": [
    "## determine shifts"
   ]
  },
  {
   "cell_type": "markdown",
   "metadata": {},
   "source": [
    "### take cumulative sum if `on='perframe'` when estimating shifts"
   ]
  },
  {
   "cell_type": "code",
   "execution_count": null,
   "metadata": {
    "scrolled": false
   },
   "outputs": [],
   "source": [
    "%%time\n",
    "shifts_final = shifts.cumsum('frame')\n",
    "shifts_final = xr.apply_ufunc(da.around, shifts_final.fillna(0), dask='allowed').astype(int)"
   ]
  },
  {
   "cell_type": "markdown",
   "metadata": {},
   "source": [
    "### use raw shifts otherwise"
   ]
  },
  {
   "cell_type": "code",
   "execution_count": null,
   "metadata": {},
   "outputs": [],
   "source": [
    "shifts_final = xr.apply_ufunc(da.around, shifts.fillna(0), dask='allowed').astype(int)"
   ]
  },
  {
   "cell_type": "markdown",
   "metadata": {},
   "source": [
    "## visualization of final shifts"
   ]
  },
  {
   "cell_type": "code",
   "execution_count": null,
   "metadata": {},
   "outputs": [],
   "source": [
    "%%output size=100\n",
    "%%opts Curve [width=500, tools=['hover']]\n",
    "hv.NdOverlay(dict(width=hv.Curve(shifts_final.sel(variable='width')), height=hv.Curve(shifts_final.sel(variable='height'))))"
   ]
  },
  {
   "cell_type": "markdown",
   "metadata": {},
   "source": [
    "## apply shifts"
   ]
  },
  {
   "cell_type": "code",
   "execution_count": null,
   "metadata": {
    "scrolled": false
   },
   "outputs": [],
   "source": [
    "varr_mc = apply_shifts(varr_ref, shifts_final)\n",
    "varr_mc = varr_mc.ffill('height').bfill('height').ffill('width').bfill('width')\n",
    "if in_memory:\n",
    "    with ProgressBar():\n",
    "        varr_mc = varr_mc.persist()"
   ]
  },
  {
   "cell_type": "markdown",
   "metadata": {},
   "source": [
    "## visualization of motion-correction"
   ]
  },
  {
   "cell_type": "code",
   "execution_count": null,
   "metadata": {},
   "outputs": [],
   "source": [
    "%%output size=60 fps=5\n",
    "%%opts Image (cmap='Viridis')\n",
    "vaviewer = VArrayViewer(varr_mc.rename('varr_mc'), framerate=5)\n",
    "display(vaviewer.widgets)\n",
    "vaviewer.show()"
   ]
  },
  {
   "cell_type": "markdown",
   "metadata": {},
   "source": [
    "## save result as DataSet"
   ]
  },
  {
   "cell_type": "code",
   "execution_count": null,
   "metadata": {},
   "outputs": [],
   "source": [
    "%%time\n",
    "with ProgressBar():\n",
    "    save_minian(varr_mc.rename('org'), dpath, 'minian', meta_dict=meta_dict, backend='zarr')"
   ]
  },
  {
   "cell_type": "markdown",
   "metadata": {},
   "source": [
    "# background removal"
   ]
  },
  {
   "cell_type": "markdown",
   "metadata": {},
   "source": [
    "## load in from disk"
   ]
  },
  {
   "cell_type": "code",
   "execution_count": null,
   "metadata": {},
   "outputs": [],
   "source": [
    "varr_mc = open_minian(dpath, 'minian', backend='zarr')['org']"
   ]
  },
  {
   "cell_type": "markdown",
   "metadata": {},
   "source": [
    "## background removal"
   ]
  },
  {
   "cell_type": "code",
   "execution_count": null,
   "metadata": {},
   "outputs": [],
   "source": [
    "%%time\n",
    "Y = remove_background(varr_mc, method='tophat', wnd=10)\n",
    "if in_memory:\n",
    "    with ProgressBar(), dask.config.set(scheduler='processes'):\n",
    "        Y = Y.persist()"
   ]
  },
  {
   "cell_type": "markdown",
   "metadata": {},
   "source": [
    "## normalization"
   ]
  },
  {
   "cell_type": "code",
   "execution_count": null,
   "metadata": {},
   "outputs": [],
   "source": [
    "%%time\n",
    "Y = scale_varr(Y)\n",
    "if in_memory:\n",
    "    with ProgressBar():\n",
    "        Y = Y.persist()"
   ]
  },
  {
   "cell_type": "markdown",
   "metadata": {},
   "source": [
    "## visualization of background removal"
   ]
  },
  {
   "cell_type": "code",
   "execution_count": null,
   "metadata": {},
   "outputs": [],
   "source": [
    "%%output size=60\n",
    "%%opts Image (cmap='Viridis')\n",
    "vaviewer = VArrayViewer(Y.rename('Y'), framerate=5)\n",
    "display(vaviewer.widgets)\n",
    "vaviewer.show()"
   ]
  },
  {
   "cell_type": "code",
   "execution_count": null,
   "metadata": {},
   "outputs": [],
   "source": [
    "%%time\n",
    "with ProgressBar(), dask.config.set(scheduler='processes'):\n",
    "    save_minian(Y.rename('Y'), dpath, 'minian', meta_dict=meta_dict, backend='zarr')"
   ]
  },
  {
   "cell_type": "markdown",
   "metadata": {},
   "source": [
    "# initialization"
   ]
  },
  {
   "cell_type": "code",
   "execution_count": null,
   "metadata": {},
   "outputs": [],
   "source": [
    "%%time\n",
    "minian = open_minian(dpath, 'minian', backend='zarr')"
   ]
  },
  {
   "cell_type": "code",
   "execution_count": null,
   "metadata": {},
   "outputs": [],
   "source": [
    "Y = minian['Y']"
   ]
  },
  {
   "cell_type": "markdown",
   "metadata": {},
   "source": [
    "## generating over-complete set of seeds"
   ]
  },
  {
   "cell_type": "code",
   "execution_count": null,
   "metadata": {
    "scrolled": false
   },
   "outputs": [],
   "source": [
    "%%time\n",
    "seeds = seeds_init(Y, method='rolling')"
   ]
  },
  {
   "cell_type": "code",
   "execution_count": null,
   "metadata": {},
   "outputs": [],
   "source": [
    "%%time\n",
    "with ProgressBar():\n",
    "    max_proj = Y.max('frame').compute()"
   ]
  },
  {
   "cell_type": "code",
   "execution_count": null,
   "metadata": {},
   "outputs": [],
   "source": [
    "Y_flt = Y.stack(spatial=['height', 'width'])"
   ]
  },
  {
   "cell_type": "code",
   "execution_count": null,
   "metadata": {},
   "outputs": [],
   "source": [
    "opts_im = dict(plot=dict(height=480, width=752), style=dict(cmap='Viridis'))\n",
    "opts_pts = dict(\n",
    "    plot=dict(height=480, width=752, size_index='seeds', tools=['hover']),\n",
    "    style=dict(fill_alpha=0.6, line_alpha=0, fill_color='white'))\n",
    "(regrid(hv.Image(max_proj, kdims=['width', 'height'])).opts(**opts_im)\n",
    " * hv.Points(seeds, kdims=['width', 'height'], vdims=['index', 'seeds']).opts(**opts_pts))"
   ]
  },
  {
   "cell_type": "markdown",
   "metadata": {},
   "source": [
    "## gaussian-mixture-model refine"
   ]
  },
  {
   "cell_type": "code",
   "execution_count": null,
   "metadata": {
    "scrolled": false
   },
   "outputs": [],
   "source": [
    "%%time\n",
    "seeds_gmm = gmm_refine(Y_flt, seeds)"
   ]
  },
  {
   "cell_type": "code",
   "execution_count": null,
   "metadata": {},
   "outputs": [],
   "source": [
    "opts_im = dict(plot=dict(height=480, width=752), style=dict(cmap='Viridis'))\n",
    "opts_pts = dict(\n",
    "    plot=dict(height=480, width=752, size_index='seeds', color_index='mask_gmm', tools=['hover']),\n",
    "    style=dict(fill_alpha=0.8, line_alpha=0, cmap='Set1'))\n",
    "(regrid(hv.Image(max_proj, kdims=['width', 'height'])).opts(**opts_im)\n",
    " * hv.Points(seeds_gmm, kdims=['width', 'height'], vdims=['index', 'seeds', 'mask_gmm']).opts(**opts_pts))"
   ]
  },
  {
   "cell_type": "markdown",
   "metadata": {},
   "source": [
    "## peak-noise-ratio refine"
   ]
  },
  {
   "cell_type": "code",
   "execution_count": null,
   "metadata": {
    "scrolled": false
   },
   "outputs": [],
   "source": [
    "%%time\n",
    "noise_freq_list = [0.005, 0.01, 0.02, 0.06, 0.2, 0.3, 0.45]\n",
    "example_seeds = seeds_gmm[seeds_gmm['mask_gmm']].sample(12, axis='rows')\n",
    "example_trace = (Y_flt\n",
    "                 .sel(spatial=[tuple(hw) for hw in example_seeds[['height', 'width']].values])\n",
    "                 .assign_coords(spatial=np.arange(12)))\n",
    "smooth_dict = dict()\n",
    "for freq in noise_freq_list:\n",
    "    trace_smth = smooth_sig(example_trace, freq)\n",
    "    with ProgressBar():\n",
    "        trace_smth = trace_smth.compute()\n",
    "    hv_trace = (hv.Dataset(trace_smth, kdims=['spatial', 'frame'])\n",
    "                .to(hv.Curve, kdims=['frame']).layout('spatial'))\n",
    "    smooth_dict[freq] = hv_trace"
   ]
  },
  {
   "cell_type": "code",
   "execution_count": null,
   "metadata": {},
   "outputs": [],
   "source": [
    "%%output size=80\n",
    "hv.HoloMap(smooth_dict, kdims=['noise_freq']).collate()"
   ]
  },
  {
   "cell_type": "code",
   "execution_count": null,
   "metadata": {},
   "outputs": [],
   "source": [
    "seeds_pnr, pnr = pnr_refine(Y_flt, seeds_gmm[seeds_gmm['mask_gmm']], noise_freq=0.06, thres=.9)"
   ]
  },
  {
   "cell_type": "code",
   "execution_count": null,
   "metadata": {},
   "outputs": [],
   "source": [
    "opts_im = dict(plot=dict(height=480, width=752), style=dict(cmap='Viridis'))\n",
    "opts_pts = dict(\n",
    "    plot=dict(height=480, width=752, size_index='seeds', color_index='mask_pnr', tools=['hover']),\n",
    "    style=dict(fill_alpha=0.8, line_alpha=0, cmap='Set1'))\n",
    "(regrid(hv.Image(max_proj, kdims=['width', 'height'])).opts(**opts_im)\n",
    " * hv.Points(seeds_pnr, kdims=['width', 'height'], vdims=['index', 'seeds', 'mask_pnr']).opts(**opts_pts))"
   ]
  },
  {
   "cell_type": "markdown",
   "metadata": {},
   "source": [
    "## intensity refine"
   ]
  },
  {
   "cell_type": "code",
   "execution_count": null,
   "metadata": {},
   "outputs": [],
   "source": [
    "%%time\n",
    "seeds_int = intensity_refine(max_proj, seeds_pnr[seeds_pnr['mask_pnr']])"
   ]
  },
  {
   "cell_type": "code",
   "execution_count": null,
   "metadata": {},
   "outputs": [],
   "source": [
    "opts_im = dict(plot=dict(height=480, width=752), style=dict(cmap='Viridis'))\n",
    "opts_pts = dict(\n",
    "    plot=dict(height=480, width=752, size_index='seeds', color_index='mask_int', tools=['hover']),\n",
    "    style=dict(fill_alpha=0.8, line_alpha=0, cmap='Set1'))\n",
    "(regrid(hv.Image(max_proj, kdims=['width', 'height'])).opts(**opts_im)\n",
    " * hv.Points(seeds_int, kdims=['width', 'height'], vdims=['index', 'seeds', 'mask_int']).opts(**opts_pts))"
   ]
  },
  {
   "cell_type": "markdown",
   "metadata": {},
   "source": [
    "## ks refine"
   ]
  },
  {
   "cell_type": "code",
   "execution_count": null,
   "metadata": {},
   "outputs": [],
   "source": [
    "%%time\n",
    "seeds_ks = ks_refine(Y_flt, seeds_int[seeds_int['mask_int']], sig=0.1)"
   ]
  },
  {
   "cell_type": "code",
   "execution_count": null,
   "metadata": {},
   "outputs": [],
   "source": [
    "opts_im = dict(plot=dict(height=480, width=752), style=dict(cmap='Viridis'))\n",
    "opts_pts = dict(\n",
    "    plot=dict(height=480, width=752, size_index='seeds', color_index='mask_ks', tools=['hover']),\n",
    "    style=dict(fill_alpha=0.8, line_alpha=0, cmap='Set1'))\n",
    "(regrid(hv.Image(max_proj, kdims=['width', 'height'])).opts(**opts_im)\n",
    " * hv.Points(seeds_ks, kdims=['width', 'height'], vdims=['index', 'seeds', 'mask_ks']).opts(**opts_pts))"
   ]
  },
  {
   "cell_type": "markdown",
   "metadata": {},
   "source": [
    "## merge seeds"
   ]
  },
  {
   "cell_type": "code",
   "execution_count": null,
   "metadata": {
    "scrolled": false
   },
   "outputs": [],
   "source": [
    "%%time\n",
    "seeds_final = seeds_gmm[seeds_gmm['mask_gmm']].reset_index(drop=True)\n",
    "seeds_mrg = seeds_merge(Y_flt, seeds_final, thres_dist=5, thres_corr=0.7)"
   ]
  },
  {
   "cell_type": "code",
   "execution_count": null,
   "metadata": {},
   "outputs": [],
   "source": [
    "opts_im = dict(plot=dict(height=480, width=752), style=dict(cmap='Viridis'))\n",
    "opts_pts = dict(\n",
    "    plot=dict(height=480, width=752, size_index='seeds', color_index='mask_mrg', tools=['hover']),\n",
    "    style=dict(fill_alpha=0.8, line_alpha=0, cmap='Set1'))\n",
    "(regrid(hv.Image(max_proj, kdims=['width', 'height'])).opts(**opts_im)\n",
    " * hv.Points(seeds_mrg, kdims=['width', 'height'], vdims=['index', 'seeds', 'mask_mrg']).opts(**opts_pts))"
   ]
  },
  {
   "cell_type": "markdown",
   "metadata": {},
   "source": [
    "## initialize spatial and temporal matrices from seeds"
   ]
  },
  {
   "cell_type": "code",
   "execution_count": null,
   "metadata": {
    "scrolled": false
   },
   "outputs": [],
   "source": [
    "%%time\n",
    "Y = Y.chunk(dict(frame=-1, height=200, width=200))\n",
    "A, C, b, f = initialize(Y, seeds_mrg[seeds_mrg['mask_mrg']])"
   ]
  },
  {
   "cell_type": "code",
   "execution_count": null,
   "metadata": {},
   "outputs": [],
   "source": [
    "opts = dict(plot=dict(height=300, width=300), style=dict(cmap='Viridis'))\n",
    "(regrid(hv.Image(A.sum('unit_id'), kdims=['width', 'height'])).opts(**opts)\n",
    " + regrid(hv.Image(C, kdims=['frame', 'unit_id'])).opts(**opts))"
   ]
  },
  {
   "cell_type": "markdown",
   "metadata": {},
   "source": [
    "## save results"
   ]
  },
  {
   "cell_type": "code",
   "execution_count": null,
   "metadata": {},
   "outputs": [],
   "source": [
    "%%time\n",
    "minian.close()\n",
    "save_minian(A.rename('A_init').rename(unit_id='unit_id_init'), dpath, 'minian', meta_dict=meta_dict, backend='zarr')\n",
    "save_minian(C.rename('C_init').rename(unit_id='unit_id_init'), dpath, 'minian', meta_dict=meta_dict, backend='zarr')\n",
    "save_minian(b.rename('b_init'), dpath, 'minian', meta_dict=meta_dict, backend='zarr')\n",
    "save_minian(f.rename('f_init'), dpath, 'minian', meta_dict=meta_dict, backend='zarr')"
   ]
  },
  {
   "cell_type": "markdown",
   "metadata": {},
   "source": [
    "# CNMF"
   ]
  },
  {
   "cell_type": "markdown",
   "metadata": {
    "toc-hr-collapsed": false
   },
   "source": [
    "## loading data"
   ]
  },
  {
   "cell_type": "code",
   "execution_count": null,
   "metadata": {},
   "outputs": [],
   "source": [
    "%%time\n",
    "chk = chunks.copy()\n",
    "chk['unit_id_init'] = chk.pop('unit_id')\n",
    "minian = open_minian(dpath, 'minian', backend='zarr', chunks=chk)\n",
    "Y = minian['Y']\n",
    "A_init = minian['A_init'].rename(unit_id_init='unit_id')\n",
    "C_init = minian['C_init'].rename(unit_id_init='unit_id')\n",
    "b_init = minian['b_init']\n",
    "f_init = minian['f_init']"
   ]
  },
  {
   "cell_type": "markdown",
   "metadata": {},
   "source": [
    "## estimate spatial noise"
   ]
  },
  {
   "cell_type": "code",
   "execution_count": null,
   "metadata": {
    "scrolled": false
   },
   "outputs": [],
   "source": [
    "%%time\n",
    "psd = psd_welch(Y)\n",
    "with ProgressBar():\n",
    "    psd = psd.persist()"
   ]
  },
  {
   "cell_type": "code",
   "execution_count": null,
   "metadata": {},
   "outputs": [],
   "source": [
    "%%opts Image [height=300, width=800, colorbar=True, logz=True] (cmap='Viridis')\n",
    "psd_flt = psd.stack(spatial=['height', 'width'])\n",
    "hv_psd = hv.Image(\n",
    "    psd_flt.assign_coords(spatial=range(psd_flt.sizes['spatial'])).rename('psd'),\n",
    "    kdims=['spatial', 'freq'])\n",
    "regrid(hv_psd).redim.range(psd=(0, 5e-3))"
   ]
  },
  {
   "cell_type": "code",
   "execution_count": null,
   "metadata": {},
   "outputs": [],
   "source": [
    "sn_spatial = get_noise(psd, noise_range=(0.06, 0.5))"
   ]
  },
  {
   "cell_type": "markdown",
   "metadata": {},
   "source": [
    "## test parameters for spatial update"
   ]
  },
  {
   "cell_type": "code",
   "execution_count": null,
   "metadata": {},
   "outputs": [],
   "source": [
    "units = np.random.choice(A_init.coords['unit_id'], 10)\n",
    "units.sort()"
   ]
  },
  {
   "cell_type": "code",
   "execution_count": null,
   "metadata": {},
   "outputs": [],
   "source": [
    "%%time\n",
    "sprs_ls = [0.1, 0.5, 1]\n",
    "A_dict = dict()\n",
    "C_dict = dict()\n",
    "for cur_sprs in sprs_ls:\n",
    "    cur_A, cur_b, cur_C, cur_f = update_spatial(\n",
    "        Y, A_init.sel(unit_id=units),\n",
    "        b_init, C_init.sel(unit_id=units), f_init, sn_spatial, dl_wnd=20, sparse_penal=cur_sprs)\n",
    "    if cur_A.sizes['unit_id']:\n",
    "        A_dict[cur_sprs] = cur_A.compute()\n",
    "        C_dict[cur_sprs] = cur_C.compute()\n",
    "hv_res = visualize_spatial_update(A_dict, C_dict, kdims=['sparse penalty'])"
   ]
  },
  {
   "cell_type": "code",
   "execution_count": null,
   "metadata": {},
   "outputs": [],
   "source": [
    "%%output size=80\n",
    "hv_res"
   ]
  },
  {
   "cell_type": "markdown",
   "metadata": {},
   "source": [
    "## first spatial update"
   ]
  },
  {
   "cell_type": "code",
   "execution_count": null,
   "metadata": {},
   "outputs": [],
   "source": [
    "%%time\n",
    "A_spatial, b_spatial, C_spatial, f_spatial = update_spatial(\n",
    "    Y, A_init, b_init, C_init, f_init, sn_spatial, sparse_penal=0.1, post_scal=True)\n",
    "A_spatial = A_spatial.chunk(dict(unit_id = chunks['unit_id']))"
   ]
  },
  {
   "cell_type": "code",
   "execution_count": null,
   "metadata": {
    "scrolled": false
   },
   "outputs": [],
   "source": [
    "%%output size=60\n",
    "opts = dict(plot=dict(height=A_init.sizes['height'], width=A_init.sizes['width'], colorbar=True), style=dict(cmap='Viridis'))\n",
    "(regrid(hv.Image(A_init.sum('unit_id').compute().rename('A'), kdims=['width', 'height'])).opts(**opts).relabel(\"Spatial Footprints Initial\")\n",
    "+ regrid(hv.Image((A_init.fillna(0) > 0).sum('unit_id').compute().rename('A'), kdims=['width', 'height']), aggregator='max').opts(**opts).relabel(\"Binary Spatial Footprints Initial\")\n",
    "+ regrid(hv.Image(A_spatial.sum('unit_id').compute().rename('A'), kdims=['width', 'height'])).opts(**opts).relabel(\"Spatial Footprints First Update\")\n",
    "+ regrid(hv.Image((A_spatial > 0).sum('unit_id').compute().rename('A'), kdims=['width', 'height']), aggregator='max').opts(**opts).relabel(\"Binary Spatial Footprints First Update\")).cols(2)"
   ]
  },
  {
   "cell_type": "markdown",
   "metadata": {},
   "source": [
    "## test parameters for temporal update"
   ]
  },
  {
   "cell_type": "code",
   "execution_count": null,
   "metadata": {},
   "outputs": [],
   "source": [
    "units = np.random.choice(A_spatial.coords['unit_id'], 10)\n",
    "units.sort()"
   ]
  },
  {
   "cell_type": "code",
   "execution_count": null,
   "metadata": {},
   "outputs": [],
   "source": [
    "%%time\n",
    "import itertools as itt\n",
    "p_ls = [2]\n",
    "sprs_ls = [1, 3, 5]\n",
    "add_ls = [20]\n",
    "noise_ls = [0.06]\n",
    "YA_dict, C_dict, S_dict, g_dict, sig_dict, A_dict = [dict() for _ in range(6)]\n",
    "for cur_p, cur_sprs, cur_add, cur_noise in itt.product(p_ls, sprs_ls, add_ls, noise_ls):\n",
    "    ks = (cur_p, cur_sprs, cur_add, cur_noise)\n",
    "    print(\"p:{}, sparse penalty:{}, additional lag:{}, noise frequency:{}\"\n",
    "          .format(cur_p, cur_sprs, cur_add, cur_noise))\n",
    "    YrA, cur_C, cur_S, cur_B, cur_C0, cur_sig, cur_g, cur_scal = update_temporal(\n",
    "        Y, A_spatial.sel(unit_id=units), b_spatial, C_spatial.sel(unit_id=units),\n",
    "        f_spatial, sn_spatial, sparse_penal=cur_sprs, p=cur_p, use_spatial=False, use_smooth=True,\n",
    "        add_lag = cur_add, noise_freq=cur_noise, cvx_sched=\"processes\", chk=chunks)\n",
    "    cur_A = A_spatial.sel(unit_id = cur_C.coords['unit_id'])\n",
    "    YA_dict[ks], C_dict[ks], S_dict[ks], g_dict[ks], sig_dict[ks], A_dict[ks] = (\n",
    "        YrA, cur_C, cur_S, cur_g, cur_sig, cur_A)\n",
    "hv_res = visualize_temporal_update(\n",
    "    YA_dict, C_dict, S_dict, g_dict, sig_dict, A_dict,\n",
    "    kdims=['p', 'sparse penalty', 'additional lag', 'noise frequency'])"
   ]
  },
  {
   "cell_type": "code",
   "execution_count": null,
   "metadata": {},
   "outputs": [],
   "source": [
    "%%output size=60\n",
    "hv_res"
   ]
  },
  {
   "cell_type": "markdown",
   "metadata": {},
   "source": [
    "## first temporal update"
   ]
  },
  {
   "cell_type": "code",
   "execution_count": null,
   "metadata": {
    "scrolled": false
   },
   "outputs": [],
   "source": [
    "%%time\n",
    "YrA, C_temporal, S_temporal, B_temporal, C0_temporal, sig_temporal, g_temporal, scale = update_temporal(\n",
    "    Y, A_spatial,\n",
    "    b_spatial, C_spatial, f_spatial, sn_spatial, jac_thres=0.1,\n",
    "    noise_freq=0.06, sparse_penal=1, p=2, add_lag=20, use_spatial=False,\n",
    "    chk=chunks, cvx_sched='processes')\n",
    "A_temporal = (A_spatial.sel(unit_id = C_temporal.coords['unit_id'])\n",
    "              .chunk(chunks['unit_id']))"
   ]
  },
  {
   "cell_type": "code",
   "execution_count": null,
   "metadata": {},
   "outputs": [],
   "source": [
    "%%output size=60\n",
    "opts_im = dict(plot=dict(height=500, width=1000, colorbar=True), style=dict(cmap='Viridis'))\n",
    "ranges = dict(c=(0, 1.5), s=(0, 0.04))\n",
    "(regrid(hv.Image(C_init.rename('c'), kdims=['frame', 'unit_id'])).opts(**opts_im).relabel(\"Temporal Trace Initial\").redim.range(**ranges)\n",
    " + hv.Div('')\n",
    " + regrid(hv.Image(C_temporal.rename('c'), kdims=['frame', 'unit_id'])).opts(**opts_im).relabel(\"Temporal Trace First Update\").redim.range(**ranges)\n",
    " + regrid(hv.Image(S_temporal.rename('s'), kdims=['frame', 'unit_id'])).opts(**opts_im).relabel(\"Spikes First Update\").redim.range(**ranges)).cols(2)"
   ]
  },
  {
   "cell_type": "code",
   "execution_count": null,
   "metadata": {},
   "outputs": [],
   "source": [
    "%%output size=60\n",
    "h, w = A_spatial.sizes['height'], A_spatial.sizes['width']\n",
    "im_opts = dict(plot=dict(height=h, width=w), style=dict(cmap='Viridis'))\n",
    "cr_opts = dict(plot=dict(height=h, width=2*w))\n",
    "bad_units = list(set(A_spatial.coords['unit_id'].values) - set(A_temporal.coords['unit_id'].values))\n",
    "bad_units.sort()\n",
    "(datashade(hv.Dataset(YrA.sel(unit_id=bad_units).rename('raw')).to(hv.Curve, kdims=['frame'])).opts(**cr_opts).relabel(\"Temporal Trace\")\n",
    " + hv.Div('')\n",
    " + regrid(hv.Dataset(A_spatial.sel(unit_id=bad_units).rename('A')).to(hv.Image, kdims=['width', 'height'])).opts(**im_opts).relabel(\"Spatial Footprint\")\n",
    " + regrid(hv.Image(A_temporal.sum('unit_id').compute().rename('A'), kdims=['width', 'height'])).opts(**im_opts).relabel(\"Spatial Footprints of Accepted Units\")).cols(2)"
   ]
  },
  {
   "cell_type": "code",
   "execution_count": null,
   "metadata": {
    "scrolled": false
   },
   "outputs": [],
   "source": [
    "%%output size=60\n",
    "visualize_temporal_update(YrA, C_temporal, S_temporal, g_temporal, sig_temporal, A_temporal)"
   ]
  },
  {
   "cell_type": "markdown",
   "metadata": {},
   "source": [
    "## merge units"
   ]
  },
  {
   "cell_type": "code",
   "execution_count": null,
   "metadata": {},
   "outputs": [],
   "source": [
    "%%time\n",
    "A_mrg, sig_mrg = unit_merge(A_temporal, sig_temporal, thres_corr=0.9)"
   ]
  },
  {
   "cell_type": "code",
   "execution_count": null,
   "metadata": {},
   "outputs": [],
   "source": [
    "%%output size=70\n",
    "opts_im = dict(plot=dict(height=500, width=1000, colorbar=True), style=dict(cmap='Viridis'))\n",
    "ranges = dict(c=(0, 4), s=(0, 0.04))\n",
    "(regrid(hv.Image(sig_temporal.rename('c'), kdims=['frame', 'unit_id'])).relabel(\"Temporal Signals Before Merge\").opts(**opts_im).redim.range(**ranges) +\n",
    "regrid(hv.Image(sig_mrg.rename('c'), kdims=['frame', 'unit_id'])).relabel(\"Temporal Signals After Merge\").opts(**opts_im).redim.range(**ranges))"
   ]
  },
  {
   "cell_type": "markdown",
   "metadata": {},
   "source": [
    "## test parameters for spatial update"
   ]
  },
  {
   "cell_type": "code",
   "execution_count": null,
   "metadata": {},
   "outputs": [],
   "source": [
    "A_mrg, sig_mrg = (A_mrg.chunk({c: chunks[c] for c in ['height', 'width', 'unit_id']}),\n",
    "                  sig_mrg.chunk({c: chunks[c] for c in ['frame', 'unit_id']}))"
   ]
  },
  {
   "cell_type": "code",
   "execution_count": null,
   "metadata": {},
   "outputs": [],
   "source": [
    "units = np.random.choice(A_mrg.coords['unit_id'], 10)\n",
    "units.sort()"
   ]
  },
  {
   "cell_type": "code",
   "execution_count": null,
   "metadata": {},
   "outputs": [],
   "source": [
    "%%time\n",
    "sprs_ls = [0.05, 0.1, 0.5]\n",
    "A_dict = dict()\n",
    "C_dict = dict()\n",
    "for cur_sprs in sprs_ls:\n",
    "    cur_A, cur_b, cur_C, cur_f = update_spatial(\n",
    "        Y, A_mrg.sel(unit_id=units),\n",
    "        b_init, sig_mrg.sel(unit_id=units), f_init, sn_spatial, dl_wnd=20, sparse_penal=cur_sprs)\n",
    "    if cur_A.sizes['unit_id']:\n",
    "        A_dict[cur_sprs] = cur_A\n",
    "        C_dict[cur_sprs] = cur_C\n",
    "hv_res = visualize_spatial_update(A_dict, C_dict, kdims=['sparse penalty'])"
   ]
  },
  {
   "cell_type": "code",
   "execution_count": null,
   "metadata": {},
   "outputs": [],
   "source": [
    "%%output size=80\n",
    "hv_res"
   ]
  },
  {
   "cell_type": "markdown",
   "metadata": {},
   "source": [
    "## second spatial update"
   ]
  },
  {
   "cell_type": "code",
   "execution_count": null,
   "metadata": {},
   "outputs": [],
   "source": [
    "%%time\n",
    "A_spatial_it2, b_spatial_it2, C_spatial_it2, f_spatial_it2 = update_spatial(\n",
    "    Y, A_mrg, b_spatial, sig_mrg, f_spatial, sn_spatial, sparse_penal=0.05, dl_wnd=5)"
   ]
  },
  {
   "cell_type": "code",
   "execution_count": null,
   "metadata": {
    "scrolled": false
   },
   "outputs": [],
   "source": [
    "%%output size=60\n",
    "opts = dict(plot=dict(height=A_init.sizes['height'], width=A_init.sizes['width'], colorbar=True), style=dict(cmap='Viridis'))\n",
    "(regrid(hv.Image(A_spatial.sum('unit_id').compute().rename('A'), kdims=['width', 'height'])).opts(**opts).relabel(\"Spatial Footprints First Update\")\n",
    "+ regrid(hv.Image((A_spatial.fillna(0) > 0).sum('unit_id').compute().rename('A'), kdims=['width', 'height']), aggregator='max').opts(**opts).relabel(\"Binary Spatial Footprints First Update\")\n",
    "+ regrid(hv.Image(A_spatial_it2.sum('unit_id').compute().rename('A'), kdims=['width', 'height'])).opts(**opts).relabel(\"Spatial Footprints Second Update\")\n",
    "+ regrid(hv.Image((A_spatial_it2 > 0).sum('unit_id').compute().rename('A'), kdims=['width', 'height']), aggregator='max').opts(**opts).relabel(\"Binary Spatial Footprints Second Update\")).cols(2)"
   ]
  },
  {
   "cell_type": "markdown",
   "metadata": {},
   "source": [
    "## test parameters for temporal update"
   ]
  },
  {
   "cell_type": "code",
   "execution_count": null,
   "metadata": {},
   "outputs": [],
   "source": [
    "units = np.random.choice(A_spatial_it2.coords['unit_id'], 10)\n",
    "units.sort()"
   ]
  },
  {
   "cell_type": "code",
   "execution_count": null,
   "metadata": {},
   "outputs": [],
   "source": [
    "%%time\n",
    "import itertools as itt\n",
    "p_ls = [2]\n",
    "sprs_ls = [0.5, 1, 3]\n",
    "add_ls = [20]\n",
    "noise_ls = [0.06]\n",
    "YA_dict, C_dict, S_dict, g_dict, sig_dict, A_dict = [dict() for _ in range(6)]\n",
    "for cur_p, cur_sprs, cur_add, cur_noise in itt.product(p_ls, sprs_ls, add_ls, noise_ls):\n",
    "    ks = (cur_p, cur_sprs, cur_add, cur_noise)\n",
    "    print(\"p:{}, sparse penalty:{}, additional lag:{}, noise frequency:{}\"\n",
    "          .format(cur_p, cur_sprs, cur_add, cur_noise))\n",
    "    YrA, cur_C, cur_S, cur_B, cur_C0, cur_sig, cur_g, cur_scal = update_temporal(\n",
    "        Y, A_spatial_it2.sel(unit_id=units), b_spatial, C_spatial_it2.sel(unit_id=units),\n",
    "        f_spatial, sn_spatial, sparse_penal=cur_sprs, p=cur_p, use_spatial=False, use_smooth=True,\n",
    "        add_lag = cur_add, noise_freq=cur_noise, cvx_sched=\"processes\", chk=chunks)\n",
    "    cur_A = A_spatial.sel(unit_id = cur_C.coords['unit_id'])\n",
    "    YA_dict[ks], C_dict[ks], S_dict[ks], g_dict[ks], sig_dict[ks], A_dict[ks] = (\n",
    "        YrA, cur_C, cur_S, cur_g, cur_sig, cur_A)\n",
    "hv_res = visualize_temporal_update(\n",
    "    YA_dict, C_dict, S_dict, g_dict, sig_dict, A_dict,\n",
    "    kdims=['p', 'sparse penalty', 'additional lag', 'noise frequency'])"
   ]
  },
  {
   "cell_type": "code",
   "execution_count": null,
   "metadata": {},
   "outputs": [],
   "source": [
    "%%output size=60\n",
    "hv_res"
   ]
  },
  {
   "cell_type": "markdown",
   "metadata": {},
   "source": [
    "## second temporal update"
   ]
  },
  {
   "cell_type": "code",
   "execution_count": null,
   "metadata": {},
   "outputs": [],
   "source": [
    "%%time\n",
    "YrA, C_temporal_it2, S_temporal_it2, B_temporal_it2, C0_temporal_it2, sig_temporal_it2, g_temporal_it2, scale_temporal_it2 = update_temporal(\n",
    "    Y, A_spatial_it2, b_spatial_it2, C_spatial_it2, f_spatial_it2, sn_spatial, jac_thres=0.1,\n",
    "    noise_freq=0.06, sparse_penal=1, p=2, add_lag=20, max_iters=500, chk=chunks)\n",
    "A_temporal_it2 = A_spatial_it2.sel(unit_id=C_temporal_it2.coords['unit_id'])"
   ]
  },
  {
   "cell_type": "code",
   "execution_count": null,
   "metadata": {},
   "outputs": [],
   "source": [
    "%%output size=60\n",
    "opts_im = dict(plot=dict(height=500, width=1000, colorbar=True), style=dict(cmap='Viridis'))\n",
    "ranges = dict(c=(0, 1.5), s=(0, 0.04))\n",
    "(regrid(hv.Image(C_temporal.rename('c'), kdims=['frame', 'unit_id'])).opts(**opts_im).relabel(\"Temporal Trace First Update\").redim.range(**ranges)\n",
    " + regrid(hv.Image(S_temporal.rename('s'), kdims=['frame', 'unit_id'])).opts(**opts_im).relabel(\"Spikes First Update\").redim.range(**ranges)\n",
    " + regrid(hv.Image(C_temporal_it2.rename('c').rename(unit_id='unit_id_it2'), kdims=['frame', 'unit_id_it2'])).opts(**opts_im).relabel(\"Temporal Trace Second Update\").redim.range(**ranges)\n",
    " + regrid(hv.Image(S_temporal_it2.rename('s').rename(unit_id='unit_id_it2'), kdims=['frame', 'unit_id_it2'])).opts(**opts_im).relabel(\"Spikes Second Update\").redim.range(**ranges)).cols(2)"
   ]
  },
  {
   "cell_type": "code",
   "execution_count": null,
   "metadata": {},
   "outputs": [],
   "source": [
    "%%output size=60\n",
    "h, w = A_spatial_it2.sizes['height'], A_spatial_it2.sizes['width']\n",
    "im_opts = dict(plot=dict(height=h, width=w), style=dict(cmap='Viridis'))\n",
    "cr_opts = dict(plot=dict(height=h, width=2*w))\n",
    "bad_units = list(set(A_spatial_it2.coords['unit_id'].values) - set(A_temporal_it2.coords['unit_id'].values))\n",
    "bad_units.sort()\n",
    "(datashade(hv.Dataset(YrA.sel(unit_id=bad_units).rename('raw')).to(hv.Curve, kdims=['frame'])).opts(**cr_opts).relabel(\"Temporal Trace\")\n",
    " + hv.Div('')\n",
    " + regrid(hv.Dataset(A_spatial_it2.sel(unit_id=bad_units).rename('A')).to(hv.Image, kdims=['width', 'height'])).opts(**im_opts).relabel(\"Spatial Footprint\")\n",
    " + regrid(hv.Image(A_temporal_it2.sum('unit_id').compute().rename('A'), kdims=['width', 'height'])).opts(**im_opts).relabel(\"Spatial Footprints of Accepted Units\")).cols(2)"
   ]
  },
  {
   "cell_type": "code",
   "execution_count": null,
   "metadata": {
    "scrolled": false
   },
   "outputs": [],
   "source": [
    "%%output size=60\n",
    "visualize_temporal_update(YrA, C_temporal_it2, S_temporal_it2, g_temporal_it2, sig_temporal_it2, A_temporal_it2)"
   ]
  },
  {
   "cell_type": "markdown",
   "metadata": {},
   "source": [
    "## merge units"
   ]
  },
  {
   "cell_type": "code",
   "execution_count": null,
   "metadata": {},
   "outputs": [],
   "source": [
    "%%time\n",
    "A_mrg_it2, C_mrg_it2, add_list = unit_merge(A_temporal_it2, C_temporal_it2, [S_temporal_it2, C0_temporal_it2, g_temporal_it2, B_temporal_it2], thres_corr=0.9)"
   ]
  },
  {
   "cell_type": "code",
   "execution_count": null,
   "metadata": {},
   "outputs": [],
   "source": [
    "%%output size=70\n",
    "opts_im = dict(plot=dict(height=500, width=1000, colorbar=True), style=dict(cmap='Viridis'))\n",
    "ranges = dict(c=(0, 2), s=(0, 0.04))\n",
    "(regrid(hv.Image(C_temporal_it2.rename('c'), kdims=['frame', 'unit_id'])).relabel(\"Temporal Signals Before Merge\").opts(**opts_im).redim.range(**ranges) +\n",
    "regrid(hv.Image(C_mrg_it2.rename('c'), kdims=['frame', 'unit_id'])).relabel(\"Temporal Signals After Merge\").opts(**opts_im).redim.range(**ranges))"
   ]
  },
  {
   "cell_type": "code",
   "execution_count": null,
   "metadata": {},
   "outputs": [],
   "source": [
    "S_mrg_it2, C0_mrg_it2, g_mrg_it2, B_mrg_it2 = add_list[:]"
   ]
  },
  {
   "cell_type": "markdown",
   "metadata": {},
   "source": [
    "## save results"
   ]
  },
  {
   "cell_type": "code",
   "execution_count": null,
   "metadata": {},
   "outputs": [],
   "source": [
    "%%time\n",
    "minian.close()\n",
    "save_minian(A_mrg_it2.rename('A').compute(), dpath, 'minian', meta_dict=meta_dict, backend='zarr')\n",
    "save_minian(C_mrg_it2.rename('C').compute(), dpath, 'minian', meta_dict=meta_dict, backend='zarr')\n",
    "save_minian(S_mrg_it2.rename('S').compute(), dpath, 'minian', meta_dict=meta_dict, backend='zarr')\n",
    "save_minian(g_mrg_it2.rename('g').compute(), dpath, 'minian', meta_dict=meta_dict, backend='zarr')\n",
    "save_minian(C0_mrg_it2.rename('C0').compute(), dpath, 'minian', meta_dict=meta_dict, backend='zarr')\n",
    "save_minian(B_mrg_it2.rename('B').compute(), dpath, 'minian', meta_dict=meta_dict, backend='zarr')\n",
    "save_minian(b_spatial_it2.rename('b').compute(), dpath, 'minian', meta_dict=meta_dict, backend='zarr')\n",
    "save_minian(f_spatial_it2.rename('f').compute(), dpath, 'minian', meta_dict=meta_dict, backend='zarr')"
   ]
  },
  {
   "cell_type": "markdown",
   "metadata": {},
   "source": [
    "## visualization"
   ]
  },
  {
   "cell_type": "code",
   "execution_count": null,
   "metadata": {},
   "outputs": [],
   "source": [
    "minian = open_minian(dpath, 'minian', backend='zarr')"
   ]
  },
  {
   "cell_type": "code",
   "execution_count": null,
   "metadata": {},
   "outputs": [],
   "source": [
    "%%time\n",
    "generate_videos(minian, os.path.join(dpath, \"minian.mp4\"), chk=dict(height=100, width=100, frame=1000))"
   ]
  },
  {
   "cell_type": "code",
   "execution_count": null,
   "metadata": {},
   "outputs": [],
   "source": [
    "%%time\n",
    "cnmfviewer = CNMFViewer(minian)"
   ]
  },
  {
   "cell_type": "code",
   "execution_count": null,
   "metadata": {
    "scrolled": false
   },
   "outputs": [],
   "source": [
    "%output size=60\n",
    "cnmfviewer.show()"
   ]
  }
 ],
 "metadata": {
  "kernelspec": {
   "display_name": "Python3 (minian)",
   "language": "python",
   "name": "minian"
  },
  "language_info": {
   "codemirror_mode": {
    "name": "ipython",
    "version": 3
   },
   "file_extension": ".py",
   "mimetype": "text/x-python",
   "name": "python",
   "nbconvert_exporter": "python",
   "pygments_lexer": "ipython3",
   "version": "3.6.7"
  },
  "name": "pipeline.ipynb"
 },
 "nbformat": 4,
 "nbformat_minor": 2
}
